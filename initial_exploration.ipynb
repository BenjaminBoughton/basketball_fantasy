{
 "cells": [
  {
   "cell_type": "code",
   "execution_count": 12,
   "metadata": {},
   "outputs": [],
   "source": [
    "\n",
    "from yahoo_oauth import OAuth2\n",
    "import yahoo_fantasy_api as yfa\n",
    "\n",
    "\n"
   ]
  },
  {
   "cell_type": "code",
   "execution_count": 13,
   "metadata": {},
   "outputs": [
    {
     "name": "stderr",
     "output_type": "stream",
     "text": [
      "[2021-12-27 18:36:42,445 DEBUG] [yahoo_oauth.oauth.__init__] Checking \n",
      "[2021-12-27 18:36:42,447 DEBUG] [yahoo_oauth.oauth.token_is_valid] ELAPSED TIME : 118.9644889831543\n",
      "[2021-12-27 18:36:42,448 DEBUG] [yahoo_oauth.oauth.token_is_valid] TOKEN IS STILL VALID\n"
     ]
    }
   ],
   "source": [
    "sc = OAuth2(None, None, from_file='private.json')\n",
    "\n"
   ]
  },
  {
   "cell_type": "code",
   "execution_count": 14,
   "metadata": {},
   "outputs": [],
   "source": [
    "gm = yfa.Game(sc, 'nba')"
   ]
  },
  {
   "cell_type": "code",
   "execution_count": 15,
   "metadata": {},
   "outputs": [
    {
     "data": {
      "text/plain": [
       "['410.l.108988', '410.l.157050']"
      ]
     },
     "execution_count": 15,
     "metadata": {},
     "output_type": "execute_result"
    }
   ],
   "source": [
    "gm.league_ids(year=2021)\n"
   ]
  },
  {
   "cell_type": "code",
   "execution_count": 16,
   "metadata": {},
   "outputs": [],
   "source": [
    "lg = gm.to_league('410.l.157050')"
   ]
  },
  {
   "cell_type": "code",
   "execution_count": 17,
   "metadata": {},
   "outputs": [
    {
     "data": {
      "text/plain": [
       "[{'display_name': 'FG%', 'position_type': 'P'},\n",
       " {'display_name': 'FT%', 'position_type': 'P'},\n",
       " {'display_name': '3PTM', 'position_type': 'P'},\n",
       " {'display_name': 'PTS', 'position_type': 'P'},\n",
       " {'display_name': 'REB', 'position_type': 'P'},\n",
       " {'display_name': 'AST', 'position_type': 'P'},\n",
       " {'display_name': 'ST', 'position_type': 'P'},\n",
       " {'display_name': 'BLK', 'position_type': 'P'},\n",
       " {'display_name': 'TO', 'position_type': 'P'}]"
      ]
     },
     "execution_count": 17,
     "metadata": {},
     "output_type": "execute_result"
    }
   ],
   "source": [
    "lg.stat_categories()\n"
   ]
  },
  {
   "cell_type": "code",
   "execution_count": 18,
   "metadata": {},
   "outputs": [
    {
     "data": {
      "text/plain": [
       "'410.l.157050.t.10'"
      ]
     },
     "execution_count": 18,
     "metadata": {},
     "output_type": "execute_result"
    }
   ],
   "source": [
    "lg.team_key()"
   ]
  },
  {
   "cell_type": "code",
   "execution_count": 19,
   "metadata": {},
   "outputs": [
    {
     "data": {
      "text/plain": [
       "11"
      ]
     },
     "execution_count": 19,
     "metadata": {},
     "output_type": "execute_result"
    }
   ],
   "source": [
    "lg.current_week()"
   ]
  },
  {
   "cell_type": "code",
   "execution_count": 20,
   "metadata": {},
   "outputs": [
    {
     "data": {
      "text/plain": [
       "23"
      ]
     },
     "execution_count": 20,
     "metadata": {},
     "output_type": "execute_result"
    }
   ],
   "source": [
    "lg.end_week()"
   ]
  },
  {
   "cell_type": "code",
   "execution_count": 21,
   "metadata": {},
   "outputs": [
    {
     "data": {
      "text/plain": [
       "(datetime.date(2022, 1, 3), datetime.date(2022, 1, 9))"
      ]
     },
     "execution_count": 21,
     "metadata": {},
     "output_type": "execute_result"
    }
   ],
   "source": [
    "lg.week_date_range(12)"
   ]
  },
  {
   "cell_type": "code",
   "execution_count": 22,
   "metadata": {},
   "outputs": [],
   "source": [
    "tm = lg.to_team('410.l.157050.t.10')"
   ]
  },
  {
   "cell_type": "code",
   "execution_count": 25,
   "metadata": {},
   "outputs": [
    {
     "data": {
      "text/plain": [
       "[{'player_id': 6164,\n",
       "  'name': 'Ja Morant',\n",
       "  'status': '',\n",
       "  'position_type': 'P',\n",
       "  'eligible_positions': ['PG', 'G', 'Util'],\n",
       "  'selected_position': 'PG'},\n",
       " {'player_id': 6413,\n",
       "  'name': 'Tyrese Maxey',\n",
       "  'status': '',\n",
       "  'position_type': 'P',\n",
       "  'eligible_positions': ['PG', 'SG', 'G', 'Util'],\n",
       "  'selected_position': 'SG'},\n",
       " {'player_id': 6395,\n",
       "  'name': 'LaMelo Ball',\n",
       "  'status': '',\n",
       "  'position_type': 'P',\n",
       "  'eligible_positions': ['PG', 'SG', 'G', 'Util'],\n",
       "  'selected_position': 'G'},\n",
       " {'player_id': 3704,\n",
       "  'name': 'LeBron James',\n",
       "  'status': 'GTD',\n",
       "  'position_type': 'P',\n",
       "  'eligible_positions': ['PG', 'SG', 'G', 'SF', 'F', 'Util', 'IL+'],\n",
       "  'selected_position': 'SF'},\n",
       " {'player_id': 4766,\n",
       "  'name': 'Nemanja Bjelica',\n",
       "  'status': '',\n",
       "  'position_type': 'P',\n",
       "  'eligible_positions': ['PF', 'F', 'C', 'Util'],\n",
       "  'selected_position': 'PF'},\n",
       " {'player_id': 6254,\n",
       "  'name': 'Luguentz Dort',\n",
       "  'status': '',\n",
       "  'position_type': 'P',\n",
       "  'eligible_positions': ['SG', 'G', 'SF', 'F', 'Util'],\n",
       "  'selected_position': 'F'},\n",
       " {'player_id': 5769,\n",
       "  'name': 'Lauri Markkanen',\n",
       "  'status': '',\n",
       "  'position_type': 'P',\n",
       "  'eligible_positions': ['PF', 'F', 'C', 'Util'],\n",
       "  'selected_position': 'C'},\n",
       " {'player_id': 5352,\n",
       "  'name': 'Nikola Jokic',\n",
       "  'status': '',\n",
       "  'position_type': 'P',\n",
       "  'eligible_positions': ['PF', 'F', 'C', 'Util'],\n",
       "  'selected_position': 'C'},\n",
       " {'player_id': 5660,\n",
       "  'name': 'Dejounte Murray',\n",
       "  'status': 'INJ',\n",
       "  'position_type': 'P',\n",
       "  'eligible_positions': ['PG', 'SG', 'G', 'Util', 'IL', 'IL+'],\n",
       "  'selected_position': 'Util'},\n",
       " {'player_id': 5317,\n",
       "  'name': 'Marcus Smart',\n",
       "  'status': 'GTD',\n",
       "  'position_type': 'P',\n",
       "  'eligible_positions': ['PG', 'SG', 'G', 'Util', 'IL+'],\n",
       "  'selected_position': 'Util'},\n",
       " {'player_id': 6048,\n",
       "  'name': 'Gary Trent Jr.',\n",
       "  'status': 'INJ',\n",
       "  'position_type': 'P',\n",
       "  'eligible_positions': ['SG', 'G', 'SF', 'F', 'Util', 'IL', 'IL+'],\n",
       "  'selected_position': 'BN'},\n",
       " {'player_id': 4913,\n",
       "  'name': 'Bojan Bogdanovic',\n",
       "  'status': '',\n",
       "  'position_type': 'P',\n",
       "  'eligible_positions': ['SF', 'PF', 'F', 'Util'],\n",
       "  'selected_position': 'BN'},\n",
       " {'player_id': 5894,\n",
       "  'name': 'Chris Boucher',\n",
       "  'status': '',\n",
       "  'position_type': 'P',\n",
       "  'eligible_positions': ['PF', 'F', 'C', 'Util'],\n",
       "  'selected_position': 'BN'},\n",
       " {'player_id': 6028,\n",
       "  'name': 'Donte DiVincenzo',\n",
       "  'status': '',\n",
       "  'position_type': 'P',\n",
       "  'eligible_positions': ['PG', 'SG', 'G', 'Util'],\n",
       "  'selected_position': 'IL'},\n",
       " {'player_id': 6356,\n",
       "  'name': 'James Wiseman',\n",
       "  'status': 'INJ',\n",
       "  'position_type': 'P',\n",
       "  'eligible_positions': ['C', 'Util', 'IL', 'IL+'],\n",
       "  'selected_position': 'IL'},\n",
       " {'player_id': 5157,\n",
       "  'name': 'Nerlens Noel',\n",
       "  'status': 'INJ',\n",
       "  'position_type': 'P',\n",
       "  'eligible_positions': ['PF', 'F', 'C', 'Util', 'IL', 'IL+'],\n",
       "  'selected_position': 'IL+'},\n",
       " {'player_id': 5487,\n",
       "  'name': 'Larry Nance Jr.',\n",
       "  'status': '',\n",
       "  'position_type': 'P',\n",
       "  'eligible_positions': ['PF', 'F', 'C', 'Util'],\n",
       "  'selected_position': ''}]"
      ]
     },
     "execution_count": 25,
     "metadata": {},
     "output_type": "execute_result"
    }
   ],
   "source": [
    "tm.roster(1)"
   ]
  },
  {
   "cell_type": "code",
   "execution_count": 39,
   "metadata": {},
   "outputs": [
    {
     "data": {
      "text/plain": [
       "[{'player_id': 3971,\n",
       "  'name': 'Lou Williams',\n",
       "  'position_type': 'P',\n",
       "  'FG%': '-',\n",
       "  'FT%': '-',\n",
       "  '3PTM': 0.0,\n",
       "  'PTS': 0.0,\n",
       "  'REB': 0.0,\n",
       "  'AST': 0.0,\n",
       "  'ST': 0.0,\n",
       "  'BLK': 0.0,\n",
       "  'TO': 0.0}]"
      ]
     },
     "execution_count": 39,
     "metadata": {},
     "output_type": "execute_result"
    }
   ],
   "source": [
    " lg.player_stats(lg.player_details('Lou Williams')[0]['player_id'], req_type='lastweek')\n",
    "\n",
    "\n",
    "\n",
    "\n"
   ]
  },
  {
   "cell_type": "code",
   "execution_count": 42,
   "metadata": {},
   "outputs": [],
   "source": [
    "tm_opponent = lg.to_team(tm.matchup(lg.current_week()))\n"
   ]
  },
  {
   "cell_type": "code",
   "execution_count": 56,
   "metadata": {},
   "outputs": [],
   "source": [
    "# Can calculate based on averages which category I'm losing in for the week\n",
    "\n",
    "\n",
    "# Opponent Stats\n",
    "opponent_player_ids = [player['player_id'] for player in tm_opponent.roster()]\n",
    "\n",
    "#Season stats\n",
    "opponent_player_season_stats = lg.player_stats(player_ids=opponent_player_ids, req_type='season')\n",
    "\n",
    "# Last month stats\n",
    "opponent_player_month_stats = lg.player_stats(player_ids=opponent_player_ids, req_type='lastmonth')\n",
    "\n",
    "# Last week stats\n",
    "opponent_player_week_stats = lg.player_stats(player_ids=opponent_player_ids, req_type='lastweek')\n",
    "\n",
    "\n",
    "\n",
    "\n",
    "\n"
   ]
  },
  {
   "cell_type": "code",
   "execution_count": 57,
   "metadata": {},
   "outputs": [
    {
     "data": {
      "text/plain": [
       "[{'player_id': 4647,\n",
       "  'name': 'Patrick Beverley',\n",
       "  'position_type': 'P',\n",
       "  'FG%': '-',\n",
       "  'FT%': '-',\n",
       "  '3PTM': 0.0,\n",
       "  'PTS': 0.0,\n",
       "  'REB': 0.0,\n",
       "  'AST': 0.0,\n",
       "  'ST': 0.0,\n",
       "  'BLK': 0.0,\n",
       "  'TO': 0.0},\n",
       " {'player_id': 6548,\n",
       "  'name': 'Josh Giddey',\n",
       "  'position_type': 'P',\n",
       "  'FG%': 0.365,\n",
       "  'FT%': 0.538,\n",
       "  '3PTM': 5.0,\n",
       "  'PTS': 50.0,\n",
       "  'REB': 26.0,\n",
       "  'AST': 26.0,\n",
       "  'ST': 4.0,\n",
       "  'BLK': 2.0,\n",
       "  'TO': 8.0},\n",
       " {'player_id': 6550,\n",
       "  'name': 'Franz Wagner',\n",
       "  'position_type': 'P',\n",
       "  'FG%': 0.412,\n",
       "  'FT%': 0.813,\n",
       "  '3PTM': 3.0,\n",
       "  'PTS': 58.0,\n",
       "  'REB': 11.0,\n",
       "  'AST': 3.0,\n",
       "  'ST': 3.0,\n",
       "  'BLK': 4.0,\n",
       "  'TO': 6.0},\n",
       " {'player_id': 4893,\n",
       "  'name': 'Alec Burks',\n",
       "  'position_type': 'P',\n",
       "  'FG%': 0.333,\n",
       "  'FT%': 0.7,\n",
       "  '3PTM': 6.0,\n",
       "  'PTS': 33.0,\n",
       "  'REB': 17.0,\n",
       "  'AST': 11.0,\n",
       "  'ST': 1.0,\n",
       "  'BLK': 0.0,\n",
       "  'TO': 4.0},\n",
       " {'player_id': 5487,\n",
       "  'name': 'Larry Nance Jr.',\n",
       "  'position_type': 'P',\n",
       "  'FG%': 0.8,\n",
       "  'FT%': '-',\n",
       "  '3PTM': 2.0,\n",
       "  'PTS': 10.0,\n",
       "  'REB': 6.0,\n",
       "  'AST': 2.0,\n",
       "  'ST': 4.0,\n",
       "  'BLK': 0.0,\n",
       "  'TO': 1.0},\n",
       " {'player_id': 5464,\n",
       "  'name': 'Kristaps Porzingis',\n",
       "  'position_type': 'P',\n",
       "  'FG%': 0.444,\n",
       "  'FT%': 0.846,\n",
       "  '3PTM': 0.0,\n",
       "  'PTS': 27.0,\n",
       "  'REB': 9.0,\n",
       "  'AST': 3.0,\n",
       "  'ST': 1.0,\n",
       "  'BLK': 2.0,\n",
       "  'TO': 3.0},\n",
       " {'player_id': 6558,\n",
       "  'name': 'Alperen Sengun',\n",
       "  'position_type': 'P',\n",
       "  'FG%': 0.571,\n",
       "  'FT%': 0.5,\n",
       "  '3PTM': 1.0,\n",
       "  'PTS': 28.0,\n",
       "  'REB': 21.0,\n",
       "  'AST': 9.0,\n",
       "  'ST': 2.0,\n",
       "  'BLK': 2.0,\n",
       "  'TO': 10.0},\n",
       " {'player_id': 5958,\n",
       "  'name': 'Deandre Ayton',\n",
       "  'position_type': 'P',\n",
       "  'FG%': 0.694,\n",
       "  'FT%': 0.667,\n",
       "  '3PTM': 0.0,\n",
       "  'PTS': 56.0,\n",
       "  'REB': 30.0,\n",
       "  'AST': 5.0,\n",
       "  'ST': 3.0,\n",
       "  'BLK': 3.0,\n",
       "  'TO': 4.0},\n",
       " {'player_id': 4749,\n",
       "  'name': 'Eric Bledsoe',\n",
       "  'position_type': 'P',\n",
       "  'FG%': 0.5,\n",
       "  'FT%': 0.857,\n",
       "  '3PTM': 2.0,\n",
       "  'PTS': 46.0,\n",
       "  'REB': 15.0,\n",
       "  'AST': 20.0,\n",
       "  'ST': 5.0,\n",
       "  'BLK': 2.0,\n",
       "  'TO': 9.0},\n",
       " {'player_id': 6219,\n",
       "  'name': 'Nicolas Claxton',\n",
       "  'position_type': 'P',\n",
       "  'FG%': 0.444,\n",
       "  'FT%': 0.5,\n",
       "  '3PTM': 0.0,\n",
       "  'PTS': 9.0,\n",
       "  'REB': 6.0,\n",
       "  'AST': 3.0,\n",
       "  'ST': 0.0,\n",
       "  'BLK': 5.0,\n",
       "  'TO': 0.0},\n",
       " {'player_id': 4610,\n",
       "  'name': 'Ricky Rubio',\n",
       "  'position_type': 'P',\n",
       "  'FG%': 0.32,\n",
       "  'FT%': 0.833,\n",
       "  '3PTM': 3.0,\n",
       "  'PTS': 24.0,\n",
       "  'REB': 7.0,\n",
       "  'AST': 12.0,\n",
       "  'ST': 6.0,\n",
       "  'BLK': 0.0,\n",
       "  'TO': 6.0},\n",
       " {'player_id': 4901,\n",
       "  'name': 'Tobias Harris',\n",
       "  'position_type': 'P',\n",
       "  'FG%': 0.512,\n",
       "  'FT%': 0.85,\n",
       "  '3PTM': 3.0,\n",
       "  'PTS': 64.0,\n",
       "  'REB': 20.0,\n",
       "  'AST': 11.0,\n",
       "  'ST': 4.0,\n",
       "  'BLK': 1.0,\n",
       "  'TO': 5.0},\n",
       " {'player_id': 4612,\n",
       "  'name': 'Stephen Curry',\n",
       "  'position_type': 'P',\n",
       "  'FG%': 0.474,\n",
       "  'FT%': 0.909,\n",
       "  '3PTM': 17.0,\n",
       "  'PTS': 109.0,\n",
       "  'REB': 11.0,\n",
       "  'AST': 14.0,\n",
       "  'ST': 5.0,\n",
       "  'BLK': 3.0,\n",
       "  'TO': 8.0},\n",
       " {'player_id': 5827,\n",
       "  'name': 'Bam Adebayo',\n",
       "  'position_type': 'P',\n",
       "  'FG%': '-',\n",
       "  'FT%': '-',\n",
       "  '3PTM': 0.0,\n",
       "  'PTS': 0.0,\n",
       "  'REB': 0.0,\n",
       "  'AST': 0.0,\n",
       "  'ST': 0.0,\n",
       "  'BLK': 0.0,\n",
       "  'TO': 0.0},\n",
       " {'player_id': 5433,\n",
       "  'name': \"D'Angelo Russell\",\n",
       "  'position_type': 'P',\n",
       "  'FG%': 0.289,\n",
       "  'FT%': 1.0,\n",
       "  '3PTM': 5.0,\n",
       "  'PTS': 33.0,\n",
       "  'REB': 8.0,\n",
       "  'AST': 26.0,\n",
       "  'ST': 1.0,\n",
       "  'BLK': 0.0,\n",
       "  'TO': 6.0},\n",
       " {'player_id': 4906,\n",
       "  'name': 'Reggie Jackson',\n",
       "  'position_type': 'P',\n",
       "  'FG%': 0.333,\n",
       "  'FT%': '-',\n",
       "  '3PTM': 2.0,\n",
       "  'PTS': 10.0,\n",
       "  'REB': 2.0,\n",
       "  'AST': 0.0,\n",
       "  'ST': 0.0,\n",
       "  'BLK': 0.0,\n",
       "  'TO': 0.0}]"
      ]
     },
     "execution_count": 57,
     "metadata": {},
     "output_type": "execute_result"
    }
   ],
   "source": [
    "opponent_player_week_stats\n",
    "\n"
   ]
  },
  {
   "cell_type": "code",
   "execution_count": 60,
   "metadata": {},
   "outputs": [
    {
     "data": {
      "text/plain": [
       "[{'player_id': 5317,\n",
       "  'name': 'Marcus Smart',\n",
       "  'status': 'O',\n",
       "  'position_type': 'P',\n",
       "  'eligible_positions': ['PG', 'SG', 'G', 'Util', 'IL+'],\n",
       "  'selected_position': 'PG'},\n",
       " {'player_id': 6395,\n",
       "  'name': 'LaMelo Ball',\n",
       "  'status': '',\n",
       "  'position_type': 'P',\n",
       "  'eligible_positions': ['PG', 'SG', 'G', 'Util'],\n",
       "  'selected_position': 'SG'},\n",
       " {'player_id': 6413,\n",
       "  'name': 'Tyrese Maxey',\n",
       "  'status': '',\n",
       "  'position_type': 'P',\n",
       "  'eligible_positions': ['PG', 'SG', 'G', 'Util'],\n",
       "  'selected_position': 'G'},\n",
       " {'player_id': 6173,\n",
       "  'name': 'Cameron Johnson',\n",
       "  'status': '',\n",
       "  'position_type': 'P',\n",
       "  'eligible_positions': ['SF', 'PF', 'F', 'Util'],\n",
       "  'selected_position': 'SF'},\n",
       " {'player_id': 4913,\n",
       "  'name': 'Bojan Bogdanovic',\n",
       "  'status': '',\n",
       "  'position_type': 'P',\n",
       "  'eligible_positions': ['SF', 'PF', 'F', 'Util'],\n",
       "  'selected_position': 'PF'},\n",
       " {'player_id': 3704,\n",
       "  'name': 'LeBron James',\n",
       "  'status': 'GTD',\n",
       "  'position_type': 'P',\n",
       "  'eligible_positions': ['PG', 'SG', 'G', 'SF', 'F', 'Util', 'IL+'],\n",
       "  'selected_position': 'F'},\n",
       " {'player_id': 5352,\n",
       "  'name': 'Nikola Jokic',\n",
       "  'status': '',\n",
       "  'position_type': 'P',\n",
       "  'eligible_positions': ['PF', 'F', 'C', 'Util'],\n",
       "  'selected_position': 'C'},\n",
       " {'player_id': 5769,\n",
       "  'name': 'Lauri Markkanen',\n",
       "  'status': '',\n",
       "  'position_type': 'P',\n",
       "  'eligible_positions': ['PF', 'F', 'C', 'Util'],\n",
       "  'selected_position': 'C'},\n",
       " {'player_id': 6164,\n",
       "  'name': 'Ja Morant',\n",
       "  'status': '',\n",
       "  'position_type': 'P',\n",
       "  'eligible_positions': ['PG', 'G', 'Util'],\n",
       "  'selected_position': 'Util'},\n",
       " {'player_id': 5322,\n",
       "  'name': 'Doug McDermott',\n",
       "  'status': '',\n",
       "  'position_type': 'P',\n",
       "  'eligible_positions': ['SF', 'PF', 'F', 'Util'],\n",
       "  'selected_position': 'Util'},\n",
       " {'player_id': 6577,\n",
       "  'name': 'Herbert Jones',\n",
       "  'status': '',\n",
       "  'position_type': 'P',\n",
       "  'eligible_positions': ['SF', 'PF', 'F', 'Util'],\n",
       "  'selected_position': 'BN'},\n",
       " {'player_id': 5894,\n",
       "  'name': 'Chris Boucher',\n",
       "  'status': '',\n",
       "  'position_type': 'P',\n",
       "  'eligible_positions': ['PF', 'F', 'C', 'Util'],\n",
       "  'selected_position': 'BN'},\n",
       " {'player_id': 5157,\n",
       "  'name': 'Nerlens Noel',\n",
       "  'status': 'INJ',\n",
       "  'position_type': 'P',\n",
       "  'eligible_positions': ['PF', 'F', 'C', 'Util', 'IL', 'IL+'],\n",
       "  'selected_position': 'BN'},\n",
       " {'player_id': 6356,\n",
       "  'name': 'James Wiseman',\n",
       "  'status': 'INJ',\n",
       "  'position_type': 'P',\n",
       "  'eligible_positions': ['C', 'Util', 'IL', 'IL+'],\n",
       "  'selected_position': 'IL'},\n",
       " {'player_id': 6048,\n",
       "  'name': 'Gary Trent Jr.',\n",
       "  'status': 'INJ',\n",
       "  'position_type': 'P',\n",
       "  'eligible_positions': ['SG', 'G', 'SF', 'F', 'Util', 'IL', 'IL+'],\n",
       "  'selected_position': 'IL'},\n",
       " {'player_id': 5660,\n",
       "  'name': 'Dejounte Murray',\n",
       "  'status': 'INJ',\n",
       "  'position_type': 'P',\n",
       "  'eligible_positions': ['PG', 'SG', 'G', 'Util', 'IL', 'IL+'],\n",
       "  'selected_position': 'IL+'}]"
      ]
     },
     "execution_count": 60,
     "metadata": {},
     "output_type": "execute_result"
    }
   ],
   "source": [
    "tm.roster(11)"
   ]
  },
  {
   "cell_type": "code",
   "execution_count": 90,
   "metadata": {},
   "outputs": [],
   "source": [
    "# Read in external data\n",
    "import pandas as pd\n",
    "\n",
    "# Map a player to a team\n",
    "player_team = pd.read_csv('data/player_team.csv')\n",
    "player_team['Player'] = player_team.apply(lambda row: row['Player'].split('\\\\')[0], axis=1)\n",
    "player_team = player_team[['Player', 'Tm']]\n",
    "\n",
    "\n",
    "# Full NBA Schedule\n",
    "dec_sched = pd.read_csv('data/dec_nba_schedule.csv')[['Date', 'Visitor/Neutral', 'Home/Neutral']]\n",
    "jan_sched = pd.read_csv('data/jan_nba_schedule.csv')[['Date', 'Visitor/Neutral', 'Home/Neutral']]\n",
    "feb_sched = pd.read_csv('data/feb_nba_schedule.csv')[['Date', 'Visitor/Neutral', 'Home/Neutral']]\n",
    "mar_sched = pd.read_csv('data/mar_nba_schedule.csv')[['Date', 'Visitor/Neutral', 'Home/Neutral']]\n",
    "apr_sched = pd.read_csv('data/apr_nba_schedule.csv')[['Date', 'Visitor/Neutral', 'Home/Neutral']]\n",
    "\n",
    "all_sched = dec_sched.append(jan_sched) \\\n",
    "                     .append(feb_sched) \\\n",
    "                     .append(mar_sched) \\\n",
    "                     .append(apr_sched)\n",
    "\n"
   ]
  },
  {
   "cell_type": "code",
   "execution_count": 98,
   "metadata": {},
   "outputs": [],
   "source": [
    "# Team Acronym Mapping\n",
    "import json\n",
    "f = open('data/acronym_dict.json')\n",
    "acronym_dict = json.load(f)\n",
    "acronym_dict\n",
    "f.close()\n"
   ]
  },
  {
   "cell_type": "code",
   "execution_count": null,
   "metadata": {},
   "outputs": [],
   "source": [
    "# Begin\n"
   ]
  },
  {
   "cell_type": "code",
   "execution_count": null,
   "metadata": {},
   "outputs": [],
   "source": []
  },
  {
   "cell_type": "code",
   "execution_count": null,
   "metadata": {},
   "outputs": [],
   "source": []
  }
 ],
 "metadata": {
  "interpreter": {
   "hash": "5c0b2660eea47a26f1eb5ed85661a17e2c2deebfe24cd31b0ffe5be679bcd458"
  },
  "kernelspec": {
   "display_name": "Python 3.7.4 64-bit ('base': conda)",
   "language": "python",
   "name": "python3"
  },
  "language_info": {
   "codemirror_mode": {
    "name": "ipython",
    "version": 3
   },
   "file_extension": ".py",
   "mimetype": "text/x-python",
   "name": "python",
   "nbconvert_exporter": "python",
   "pygments_lexer": "ipython3",
   "version": "3.7.4"
  },
  "orig_nbformat": 4
 },
 "nbformat": 4,
 "nbformat_minor": 2
}
