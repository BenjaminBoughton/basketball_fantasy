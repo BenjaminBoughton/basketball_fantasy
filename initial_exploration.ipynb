{
 "cells": [
  {
   "cell_type": "code",
   "execution_count": 269,
   "metadata": {},
   "outputs": [],
   "source": [
    "\n",
    "from yahoo_oauth import OAuth2\n",
    "import yahoo_fantasy_api as yfa\n",
    "import json\n",
    "from nba_api.stats.static import players\n",
    "player_dict = players.get_players()\n",
    "\n",
    "\n"
   ]
  },
  {
   "cell_type": "code",
   "execution_count": null,
   "metadata": {},
   "outputs": [],
   "source": []
  },
  {
   "cell_type": "code",
   "execution_count": 286,
   "metadata": {},
   "outputs": [
    {
     "name": "stderr",
     "output_type": "stream",
     "text": [
      "[2022-01-05 19:21:49,812 DEBUG] [yahoo_oauth.oauth.__init__] Checking \n",
      "[2022-01-05 19:21:49,814 DEBUG] [yahoo_oauth.oauth.token_is_valid] ELAPSED TIME : 127.6584689617157\n",
      "[2022-01-05 19:21:49,815 DEBUG] [yahoo_oauth.oauth.token_is_valid] TOKEN IS STILL VALID\n"
     ]
    }
   ],
   "source": [
    "sc = OAuth2(None, None, from_file='private.json')\n",
    "\n"
   ]
  },
  {
   "cell_type": "code",
   "execution_count": 287,
   "metadata": {},
   "outputs": [],
   "source": [
    "with open('config.json') as f:\n",
    "    config = json.load(f)\n",
    "nba_start_date_2021 = config['nba_start_date_2021']\n",
    "season_year_start = config['season_year_start']"
   ]
  },
  {
   "cell_type": "code",
   "execution_count": 288,
   "metadata": {},
   "outputs": [],
   "source": [
    "gm = yfa.Game(sc, 'nba')"
   ]
  },
  {
   "cell_type": "code",
   "execution_count": 289,
   "metadata": {},
   "outputs": [
    {
     "data": {
      "text/plain": [
       "['410.l.108988', '410.l.157050']"
      ]
     },
     "execution_count": 289,
     "metadata": {},
     "output_type": "execute_result"
    }
   ],
   "source": [
    "gm.league_ids(year=season_year_start)\n"
   ]
  },
  {
   "cell_type": "code",
   "execution_count": 290,
   "metadata": {},
   "outputs": [],
   "source": [
    "lg = gm.to_league('410.l.157050')"
   ]
  },
  {
   "cell_type": "code",
   "execution_count": 291,
   "metadata": {},
   "outputs": [],
   "source": [
    "league_cats = [category['display_name'] for category in lg.stat_categories()]\n"
   ]
  },
  {
   "cell_type": "code",
   "execution_count": 292,
   "metadata": {},
   "outputs": [
    {
     "data": {
      "text/plain": [
       "'410.l.157050.t.10'"
      ]
     },
     "execution_count": 292,
     "metadata": {},
     "output_type": "execute_result"
    }
   ],
   "source": [
    "lg.team_key()"
   ]
  },
  {
   "cell_type": "code",
   "execution_count": 293,
   "metadata": {},
   "outputs": [
    {
     "data": {
      "text/plain": [
       "12"
      ]
     },
     "execution_count": 293,
     "metadata": {},
     "output_type": "execute_result"
    }
   ],
   "source": [
    "lg.current_week()"
   ]
  },
  {
   "cell_type": "code",
   "execution_count": 294,
   "metadata": {},
   "outputs": [
    {
     "data": {
      "text/plain": [
       "23"
      ]
     },
     "execution_count": 294,
     "metadata": {},
     "output_type": "execute_result"
    }
   ],
   "source": [
    "lg.end_week()"
   ]
  },
  {
   "cell_type": "code",
   "execution_count": 282,
   "metadata": {},
   "outputs": [
    {
     "data": {
      "text/plain": [
       "(datetime.date(2021, 12, 27), datetime.date(2022, 1, 2))"
      ]
     },
     "execution_count": 282,
     "metadata": {},
     "output_type": "execute_result"
    }
   ],
   "source": [
    "lg.week_date_range(lg.current_week()-1)"
   ]
  },
  {
   "cell_type": "code",
   "execution_count": 295,
   "metadata": {},
   "outputs": [],
   "source": [
    "tm = lg.to_team('410.l.157050.t.10')"
   ]
  },
  {
   "cell_type": "code",
   "execution_count": null,
   "metadata": {},
   "outputs": [],
   "source": []
  },
  {
   "cell_type": "code",
   "execution_count": 139,
   "metadata": {},
   "outputs": [],
   "source": [
    "\n"
   ]
  },
  {
   "cell_type": "code",
   "execution_count": 296,
   "metadata": {},
   "outputs": [
    {
     "ename": "RuntimeError",
     "evalue": "b'{\"error\":{\"lang\":\"en-US\",\"description\":\"Please provide valid credentials. OAuth oauth_problem=\\\\\"token_expired\\\\\", realm=\\\\\"yahooapis.com\\\\\"\"}}'",
     "output_type": "error",
     "traceback": [
      "\u001b[0;31m---------------------------------------------------------------------------\u001b[0m",
      "\u001b[0;31mRuntimeError\u001b[0m                              Traceback (most recent call last)",
      "\u001b[0;32m<ipython-input-296-0a4923618929>\u001b[0m in \u001b[0;36m<module>\u001b[0;34m\u001b[0m\n\u001b[1;32m      3\u001b[0m \u001b[0;34m\u001b[0m\u001b[0m\n\u001b[1;32m      4\u001b[0m \u001b[0;31m# Opponent Stats\u001b[0m\u001b[0;34m\u001b[0m\u001b[0;34m\u001b[0m\u001b[0;34m\u001b[0m\u001b[0m\n\u001b[0;32m----> 5\u001b[0;31m \u001b[0mopponent_player_ids\u001b[0m \u001b[0;34m=\u001b[0m \u001b[0;34m[\u001b[0m\u001b[0mplayer\u001b[0m\u001b[0;34m[\u001b[0m\u001b[0;34m'player_id'\u001b[0m\u001b[0;34m]\u001b[0m \u001b[0;32mfor\u001b[0m \u001b[0mplayer\u001b[0m \u001b[0;32min\u001b[0m \u001b[0mtm_opponent\u001b[0m\u001b[0;34m.\u001b[0m\u001b[0mroster\u001b[0m\u001b[0;34m(\u001b[0m\u001b[0;34m)\u001b[0m\u001b[0;34m]\u001b[0m\u001b[0;34m\u001b[0m\u001b[0;34m\u001b[0m\u001b[0m\n\u001b[0m\u001b[1;32m      6\u001b[0m \u001b[0;34m\u001b[0m\u001b[0m\n\u001b[1;32m      7\u001b[0m \u001b[0;31m#Season stats\u001b[0m\u001b[0;34m\u001b[0m\u001b[0;34m\u001b[0m\u001b[0;34m\u001b[0m\u001b[0m\n",
      "\u001b[0;32m~/opt/anaconda3/lib/python3.7/site-packages/yahoo_fantasy_api/team.py\u001b[0m in \u001b[0;36mroster\u001b[0;34m(self, week, day)\u001b[0m\n\u001b[1;32m     68\u001b[0m         \"\"\"\n\u001b[1;32m     69\u001b[0m         t = objectpath.Tree(self.yhandler.get_roster_raw(self.team_key,\n\u001b[0;32m---> 70\u001b[0;31m                                                          week=week, day=day))\n\u001b[0m\u001b[1;32m     71\u001b[0m         it = t.execute('''\n\u001b[1;32m     72\u001b[0m                         $..(player_id,full,position_type,eligible_positions,\n",
      "\u001b[0;32m~/opt/anaconda3/lib/python3.7/site-packages/yahoo_fantasy_api/yhandler.py\u001b[0m in \u001b[0;36mget_roster_raw\u001b[0;34m(self, team_key, week, day)\u001b[0m\n\u001b[1;32m    117\u001b[0m         \u001b[0;32melse\u001b[0m\u001b[0;34m:\u001b[0m\u001b[0;34m\u001b[0m\u001b[0;34m\u001b[0m\u001b[0m\n\u001b[1;32m    118\u001b[0m             \u001b[0mparam\u001b[0m \u001b[0;34m=\u001b[0m \u001b[0;34m\"\"\u001b[0m\u001b[0;34m\u001b[0m\u001b[0;34m\u001b[0m\u001b[0m\n\u001b[0;32m--> 119\u001b[0;31m         \u001b[0;32mreturn\u001b[0m \u001b[0mself\u001b[0m\u001b[0;34m.\u001b[0m\u001b[0mget\u001b[0m\u001b[0;34m(\u001b[0m\u001b[0;34m\"team/{}/roster{}\"\u001b[0m\u001b[0;34m.\u001b[0m\u001b[0mformat\u001b[0m\u001b[0;34m(\u001b[0m\u001b[0mteam_key\u001b[0m\u001b[0;34m,\u001b[0m \u001b[0mparam\u001b[0m\u001b[0;34m)\u001b[0m\u001b[0;34m)\u001b[0m\u001b[0;34m\u001b[0m\u001b[0;34m\u001b[0m\u001b[0m\n\u001b[0m\u001b[1;32m    120\u001b[0m \u001b[0;34m\u001b[0m\u001b[0m\n\u001b[1;32m    121\u001b[0m     \u001b[0;32mdef\u001b[0m \u001b[0mget_scoreboard_raw\u001b[0m\u001b[0;34m(\u001b[0m\u001b[0mself\u001b[0m\u001b[0;34m,\u001b[0m \u001b[0mleague_id\u001b[0m\u001b[0;34m,\u001b[0m \u001b[0mweek\u001b[0m\u001b[0;34m=\u001b[0m\u001b[0;32mNone\u001b[0m\u001b[0;34m)\u001b[0m\u001b[0;34m:\u001b[0m\u001b[0;34m\u001b[0m\u001b[0;34m\u001b[0m\u001b[0m\n",
      "\u001b[0;32m~/opt/anaconda3/lib/python3.7/site-packages/yahoo_fantasy_api/yhandler.py\u001b[0m in \u001b[0;36mget\u001b[0;34m(self, uri)\u001b[0m\n\u001b[1;32m     23\u001b[0m                                        params={'format': 'json'})\n\u001b[1;32m     24\u001b[0m         \u001b[0;32mif\u001b[0m \u001b[0mresponse\u001b[0m\u001b[0;34m.\u001b[0m\u001b[0mstatus_code\u001b[0m \u001b[0;34m!=\u001b[0m \u001b[0;36m200\u001b[0m\u001b[0;34m:\u001b[0m\u001b[0;34m\u001b[0m\u001b[0;34m\u001b[0m\u001b[0m\n\u001b[0;32m---> 25\u001b[0;31m             \u001b[0;32mraise\u001b[0m \u001b[0mRuntimeError\u001b[0m\u001b[0;34m(\u001b[0m\u001b[0mresponse\u001b[0m\u001b[0;34m.\u001b[0m\u001b[0mcontent\u001b[0m\u001b[0;34m)\u001b[0m\u001b[0;34m\u001b[0m\u001b[0;34m\u001b[0m\u001b[0m\n\u001b[0m\u001b[1;32m     26\u001b[0m         \u001b[0mjresp\u001b[0m \u001b[0;34m=\u001b[0m \u001b[0mresponse\u001b[0m\u001b[0;34m.\u001b[0m\u001b[0mjson\u001b[0m\u001b[0;34m(\u001b[0m\u001b[0;34m)\u001b[0m\u001b[0;34m\u001b[0m\u001b[0;34m\u001b[0m\u001b[0m\n\u001b[1;32m     27\u001b[0m         \u001b[0;32mreturn\u001b[0m \u001b[0mjresp\u001b[0m\u001b[0;34m\u001b[0m\u001b[0;34m\u001b[0m\u001b[0m\n",
      "\u001b[0;31mRuntimeError\u001b[0m: b'{\"error\":{\"lang\":\"en-US\",\"description\":\"Please provide valid credentials. OAuth oauth_problem=\\\\\"token_expired\\\\\", realm=\\\\\"yahooapis.com\\\\\"\"}}'"
     ]
    }
   ],
   "source": [
    "# Can calculate based on averages which category I'm losing in for the week\n",
    "\n",
    "\n",
    "# Opponent Stats\n",
    "opponent_player_ids = [player['player_id'] for player in tm_opponent.roster()]\n",
    "\n",
    "#Season stats\n",
    "opponent_player_season_stats = lg.player_stats(player_ids=opponent_player_ids, req_type='season')\n",
    "\n",
    "# Last month stats\n",
    "opponent_player_month_stats = lg.player_stats(player_ids=opponent_player_ids, req_type='lastmonth')\n",
    "\n",
    "# Last week stats\n",
    "opponent_player_week_stats = lg.player_stats(player_ids=opponent_player_ids, req_type='lastweek')\n",
    "\n",
    "\n",
    "\n",
    "\n",
    "\n"
   ]
  },
  {
   "cell_type": "code",
   "execution_count": 141,
   "metadata": {},
   "outputs": [
    {
     "data": {
      "text/plain": [
       "[{'player_id': 5767,\n",
       "  'name': \"De'Aaron Fox\",\n",
       "  'position_type': 'P',\n",
       "  'FG%': 0.458,\n",
       "  'FT%': 0.885,\n",
       "  '3PTM': 3.0,\n",
       "  'PTS': 80.0,\n",
       "  'REB': 11.0,\n",
       "  'AST': 22.0,\n",
       "  'ST': 4.0,\n",
       "  'BLK': 2.0,\n",
       "  'TO': 11.0},\n",
       " {'player_id': 6218,\n",
       "  'name': 'Kevin Porter Jr.',\n",
       "  'position_type': 'P',\n",
       "  'FG%': 0.375,\n",
       "  'FT%': '-',\n",
       "  '3PTM': 3.0,\n",
       "  'PTS': 15.0,\n",
       "  'REB': 3.0,\n",
       "  'AST': 7.0,\n",
       "  'ST': 2.0,\n",
       "  'BLK': 2.0,\n",
       "  'TO': 6.0},\n",
       " {'player_id': 6044,\n",
       "  'name': 'Jalen Brunson',\n",
       "  'position_type': 'P',\n",
       "  'FG%': 0.5,\n",
       "  'FT%': 1.0,\n",
       "  '3PTM': 5.0,\n",
       "  'PTS': 73.0,\n",
       "  'REB': 11.0,\n",
       "  'AST': 25.0,\n",
       "  'ST': 4.0,\n",
       "  'BLK': 0.0,\n",
       "  'TO': 9.0},\n",
       " {'player_id': 6403,\n",
       "  'name': 'Devin Vassell',\n",
       "  'position_type': 'P',\n",
       "  'FG%': 0.429,\n",
       "  'FT%': '-',\n",
       "  '3PTM': 8.0,\n",
       "  'PTS': 38.0,\n",
       "  'REB': 9.0,\n",
       "  'AST': 8.0,\n",
       "  'ST': 3.0,\n",
       "  'BLK': 1.0,\n",
       "  'TO': 4.0},\n",
       " {'player_id': 6463,\n",
       "  'name': \"Jae'Sean Tate\",\n",
       "  'position_type': 'P',\n",
       "  'FG%': 0.5,\n",
       "  'FT%': 0.75,\n",
       "  '3PTM': 2.0,\n",
       "  'PTS': 44.0,\n",
       "  'REB': 15.0,\n",
       "  'AST': 9.0,\n",
       "  'ST': 3.0,\n",
       "  'BLK': 3.0,\n",
       "  'TO': 3.0},\n",
       " {'player_id': 5014,\n",
       "  'name': 'Terrence Ross',\n",
       "  'position_type': 'P',\n",
       "  'FG%': 0.444,\n",
       "  'FT%': 1.0,\n",
       "  '3PTM': 5.0,\n",
       "  'PTS': 48.0,\n",
       "  'REB': 9.0,\n",
       "  'AST': 4.0,\n",
       "  'ST': 3.0,\n",
       "  'BLK': 0.0,\n",
       "  'TO': 2.0},\n",
       " {'player_id': 5642,\n",
       "  'name': 'Domantas Sabonis',\n",
       "  'position_type': 'P',\n",
       "  'FG%': 0.542,\n",
       "  'FT%': 0.659,\n",
       "  '3PTM': 5.0,\n",
       "  'PTS': 86.0,\n",
       "  'REB': 53.0,\n",
       "  'AST': 24.0,\n",
       "  'ST': 3.0,\n",
       "  'BLK': 4.0,\n",
       "  'TO': 15.0},\n",
       " {'player_id': 5476,\n",
       "  'name': 'Terry Rozier',\n",
       "  'position_type': 'P',\n",
       "  'FG%': 0.481,\n",
       "  'FT%': 0.6,\n",
       "  '3PTM': 11.0,\n",
       "  'PTS': 69.0,\n",
       "  'REB': 15.0,\n",
       "  'AST': 7.0,\n",
       "  'ST': 5.0,\n",
       "  'BLK': 3.0,\n",
       "  'TO': 2.0},\n",
       " {'player_id': 6468,\n",
       "  'name': 'Facundo Campazzo',\n",
       "  'position_type': 'P',\n",
       "  'FG%': 0.6,\n",
       "  'FT%': 0.8,\n",
       "  '3PTM': 4.0,\n",
       "  'PTS': 30.0,\n",
       "  'REB': 9.0,\n",
       "  'AST': 17.0,\n",
       "  'ST': 5.0,\n",
       "  'BLK': 3.0,\n",
       "  'TO': 7.0},\n",
       " {'player_id': 5012,\n",
       "  'name': 'Damian Lillard',\n",
       "  'position_type': 'P',\n",
       "  'FG%': 0.395,\n",
       "  'FT%': 0.737,\n",
       "  '3PTM': 6.0,\n",
       "  'PTS': 50.0,\n",
       "  'REB': 10.0,\n",
       "  'AST': 11.0,\n",
       "  'ST': 1.0,\n",
       "  'BLK': 0.0,\n",
       "  'TO': 5.0},\n",
       " {'player_id': 6021,\n",
       "  'name': 'Mikal Bridges',\n",
       "  'position_type': 'P',\n",
       "  'FG%': 0.5,\n",
       "  'FT%': 0.0,\n",
       "  '3PTM': 11.0,\n",
       "  'PTS': 53.0,\n",
       "  'REB': 18.0,\n",
       "  'AST': 6.0,\n",
       "  'ST': 5.0,\n",
       "  'BLK': 2.0,\n",
       "  'TO': 4.0},\n",
       " {'player_id': 6169,\n",
       "  'name': 'Coby White',\n",
       "  'position_type': 'P',\n",
       "  'FG%': 0.54,\n",
       "  'FT%': 0.75,\n",
       "  '3PTM': 15.0,\n",
       "  'PTS': 78.0,\n",
       "  'REB': 9.0,\n",
       "  'AST': 23.0,\n",
       "  'ST': 4.0,\n",
       "  'BLK': 3.0,\n",
       "  'TO': 5.0},\n",
       " {'player_id': 5338,\n",
       "  'name': 'Bogdan Bogdanovic',\n",
       "  'position_type': 'P',\n",
       "  'FG%': '-',\n",
       "  'FT%': '-',\n",
       "  '3PTM': 0.0,\n",
       "  'PTS': 0.0,\n",
       "  'REB': 0.0,\n",
       "  'AST': 0.0,\n",
       "  'ST': 0.0,\n",
       "  'BLK': 0.0,\n",
       "  'TO': 0.0},\n",
       " {'player_id': 6555,\n",
       "  'name': 'Chris Duarte',\n",
       "  'position_type': 'P',\n",
       "  'FG%': 0.714,\n",
       "  'FT%': '-',\n",
       "  '3PTM': 1.0,\n",
       "  'PTS': 11.0,\n",
       "  'REB': 0.0,\n",
       "  'AST': 4.0,\n",
       "  'ST': 1.0,\n",
       "  'BLK': 0.0,\n",
       "  'TO': 3.0},\n",
       " {'player_id': 5164,\n",
       "  'name': 'Kelly Olynyk',\n",
       "  'position_type': 'P',\n",
       "  'FG%': '-',\n",
       "  'FT%': '-',\n",
       "  '3PTM': 0.0,\n",
       "  'PTS': 0.0,\n",
       "  'REB': 0.0,\n",
       "  'AST': 0.0,\n",
       "  'ST': 0.0,\n",
       "  'BLK': 0.0,\n",
       "  'TO': 0.0},\n",
       " {'player_id': 5497,\n",
       "  'name': 'Richaun Holmes',\n",
       "  'position_type': 'P',\n",
       "  'FG%': 0.727,\n",
       "  'FT%': 1.0,\n",
       "  '3PTM': 0.0,\n",
       "  'PTS': 19.0,\n",
       "  'REB': 13.0,\n",
       "  'AST': 3.0,\n",
       "  'ST': 1.0,\n",
       "  'BLK': 3.0,\n",
       "  'TO': 4.0}]"
      ]
     },
     "execution_count": 141,
     "metadata": {},
     "output_type": "execute_result"
    }
   ],
   "source": [
    "opponent_player_week_stats\n",
    "\n"
   ]
  },
  {
   "cell_type": "code",
   "execution_count": 60,
   "metadata": {},
   "outputs": [
    {
     "data": {
      "text/plain": [
       "[{'player_id': 5317,\n",
       "  'name': 'Marcus Smart',\n",
       "  'status': 'O',\n",
       "  'position_type': 'P',\n",
       "  'eligible_positions': ['PG', 'SG', 'G', 'Util', 'IL+'],\n",
       "  'selected_position': 'PG'},\n",
       " {'player_id': 6395,\n",
       "  'name': 'LaMelo Ball',\n",
       "  'status': '',\n",
       "  'position_type': 'P',\n",
       "  'eligible_positions': ['PG', 'SG', 'G', 'Util'],\n",
       "  'selected_position': 'SG'},\n",
       " {'player_id': 6413,\n",
       "  'name': 'Tyrese Maxey',\n",
       "  'status': '',\n",
       "  'position_type': 'P',\n",
       "  'eligible_positions': ['PG', 'SG', 'G', 'Util'],\n",
       "  'selected_position': 'G'},\n",
       " {'player_id': 6173,\n",
       "  'name': 'Cameron Johnson',\n",
       "  'status': '',\n",
       "  'position_type': 'P',\n",
       "  'eligible_positions': ['SF', 'PF', 'F', 'Util'],\n",
       "  'selected_position': 'SF'},\n",
       " {'player_id': 4913,\n",
       "  'name': 'Bojan Bogdanovic',\n",
       "  'status': '',\n",
       "  'position_type': 'P',\n",
       "  'eligible_positions': ['SF', 'PF', 'F', 'Util'],\n",
       "  'selected_position': 'PF'},\n",
       " {'player_id': 3704,\n",
       "  'name': 'LeBron James',\n",
       "  'status': 'GTD',\n",
       "  'position_type': 'P',\n",
       "  'eligible_positions': ['PG', 'SG', 'G', 'SF', 'F', 'Util', 'IL+'],\n",
       "  'selected_position': 'F'},\n",
       " {'player_id': 5352,\n",
       "  'name': 'Nikola Jokic',\n",
       "  'status': '',\n",
       "  'position_type': 'P',\n",
       "  'eligible_positions': ['PF', 'F', 'C', 'Util'],\n",
       "  'selected_position': 'C'},\n",
       " {'player_id': 5769,\n",
       "  'name': 'Lauri Markkanen',\n",
       "  'status': '',\n",
       "  'position_type': 'P',\n",
       "  'eligible_positions': ['PF', 'F', 'C', 'Util'],\n",
       "  'selected_position': 'C'},\n",
       " {'player_id': 6164,\n",
       "  'name': 'Ja Morant',\n",
       "  'status': '',\n",
       "  'position_type': 'P',\n",
       "  'eligible_positions': ['PG', 'G', 'Util'],\n",
       "  'selected_position': 'Util'},\n",
       " {'player_id': 5322,\n",
       "  'name': 'Doug McDermott',\n",
       "  'status': '',\n",
       "  'position_type': 'P',\n",
       "  'eligible_positions': ['SF', 'PF', 'F', 'Util'],\n",
       "  'selected_position': 'Util'},\n",
       " {'player_id': 6577,\n",
       "  'name': 'Herbert Jones',\n",
       "  'status': '',\n",
       "  'position_type': 'P',\n",
       "  'eligible_positions': ['SF', 'PF', 'F', 'Util'],\n",
       "  'selected_position': 'BN'},\n",
       " {'player_id': 5894,\n",
       "  'name': 'Chris Boucher',\n",
       "  'status': '',\n",
       "  'position_type': 'P',\n",
       "  'eligible_positions': ['PF', 'F', 'C', 'Util'],\n",
       "  'selected_position': 'BN'},\n",
       " {'player_id': 5157,\n",
       "  'name': 'Nerlens Noel',\n",
       "  'status': 'INJ',\n",
       "  'position_type': 'P',\n",
       "  'eligible_positions': ['PF', 'F', 'C', 'Util', 'IL', 'IL+'],\n",
       "  'selected_position': 'BN'},\n",
       " {'player_id': 6356,\n",
       "  'name': 'James Wiseman',\n",
       "  'status': 'INJ',\n",
       "  'position_type': 'P',\n",
       "  'eligible_positions': ['C', 'Util', 'IL', 'IL+'],\n",
       "  'selected_position': 'IL'},\n",
       " {'player_id': 6048,\n",
       "  'name': 'Gary Trent Jr.',\n",
       "  'status': 'INJ',\n",
       "  'position_type': 'P',\n",
       "  'eligible_positions': ['SG', 'G', 'SF', 'F', 'Util', 'IL', 'IL+'],\n",
       "  'selected_position': 'IL'},\n",
       " {'player_id': 5660,\n",
       "  'name': 'Dejounte Murray',\n",
       "  'status': 'INJ',\n",
       "  'position_type': 'P',\n",
       "  'eligible_positions': ['PG', 'SG', 'G', 'Util', 'IL', 'IL+'],\n",
       "  'selected_position': 'IL+'}]"
      ]
     },
     "execution_count": 60,
     "metadata": {},
     "output_type": "execute_result"
    }
   ],
   "source": [
    "tm.roster(11)"
   ]
  },
  {
   "cell_type": "code",
   "execution_count": 297,
   "metadata": {},
   "outputs": [],
   "source": [
    "# Read in external data\n",
    "import pandas as pd\n",
    "\n",
    "# Map a player to a team\n",
    "player_team = pd.read_csv('data/player_team.csv')\n",
    "player_team['Player'] = player_team.apply(lambda row: row['Player'].split('\\\\')[0], axis=1)\n",
    "player_team = player_team[['Player', 'Tm']]\n",
    "\n",
    "\n",
    "# Full NBA Schedule\n",
    "dec_sched = pd.read_csv('data/dec_nba_schedule.csv')[['Date', 'Visitor/Neutral', 'Home/Neutral']]\n",
    "jan_sched = pd.read_csv('data/jan_nba_schedule.csv')[['Date', 'Visitor/Neutral', 'Home/Neutral']]\n",
    "feb_sched = pd.read_csv('data/feb_nba_schedule.csv')[['Date', 'Visitor/Neutral', 'Home/Neutral']]\n",
    "mar_sched = pd.read_csv('data/mar_nba_schedule.csv')[['Date', 'Visitor/Neutral', 'Home/Neutral']]\n",
    "apr_sched = pd.read_csv('data/apr_nba_schedule.csv')[['Date', 'Visitor/Neutral', 'Home/Neutral']]\n",
    "\n",
    "all_sched = dec_sched.append(jan_sched) \\\n",
    "                     .append(feb_sched) \\\n",
    "                     .append(mar_sched) \\\n",
    "                     .append(apr_sched)\n",
    "\n"
   ]
  },
  {
   "cell_type": "code",
   "execution_count": 298,
   "metadata": {},
   "outputs": [],
   "source": [
    "# Team Acronym Mapping\n",
    "import json\n",
    "f = open('data/acronym_dict.json')\n",
    "acronym_dict = json.load(f)\n",
    "acronym_dict\n",
    "f.close()\n"
   ]
  },
  {
   "cell_type": "code",
   "execution_count": 300,
   "metadata": {},
   "outputs": [],
   "source": [
    "# Begin\n"
   ]
  },
  {
   "cell_type": "code",
   "execution_count": 144,
   "metadata": {},
   "outputs": [],
   "source": [
    "from nba_api.stats.static import players\n",
    "player_dict = players.get_players()\n",
    "\n",
    "# Use ternary operator or write function \n",
    "# Names are case sensitive\n",
    "bron = [player for player in player_dict if player['full_name'] == 'LeBron James'][0]\n",
    "bron_id = bron['id']\n",
    "\n",
    "# find team Ids\n",
    "from nba_api.stats.static import teams \n",
    "teams = teams.get_teams()\n",
    "GSW = [x for x in teams if x['full_name'] == 'Golden State Warriors'][0]\n",
    "GSW_id = GSW['id']"
   ]
  },
  {
   "cell_type": "code",
   "execution_count": 145,
   "metadata": {},
   "outputs": [],
   "source": [
    "# First we import the endpoint\n",
    "# We will be using pandas dataframes to manipulate the data\n",
    "from nba_api.stats.endpoints import playergamelog\n",
    "import pandas as pd \n",
    "\n",
    "#Call the API endpoint passing in lebron's ID & which season \n",
    "gamelog_bron = playergamelog.PlayerGameLog(player_id='2544', season = '2021')\n",
    "\n",
    "#Converts gamelog object into a pandas dataframe\n",
    "#can also convert to JSON or dictionary  \n",
    "df_bron_games_2021 = gamelog_bron.get_data_frames()\n",
    "\n",
    "# If you want all seasons, you must import the SeasonAll parameter \n",
    "from nba_api.stats.library.parameters import SeasonAll\n",
    "\n",
    "gamelog_bron_all = playergamelog.PlayerGameLog(player_id='2544', season = SeasonAll.all)\n",
    "\n",
    "df_bron_games_all = gamelog_bron_all.get_data_frames()"
   ]
  },
  {
   "cell_type": "code",
   "execution_count": 157,
   "metadata": {},
   "outputs": [],
   "source": [
    "# df_bron_games_2021[0]"
   ]
  },
  {
   "cell_type": "code",
   "execution_count": 147,
   "metadata": {},
   "outputs": [],
   "source": [
    "from nba_api.stats.endpoints import leaguegamefinder\n",
    "\n",
    "#this time we convert it to a dataframe in the same line of code\n",
    "GSW_games = leaguegamefinder.LeagueGameFinder(team_id_nullable=GSW_id).get_data_frames()[0]\n",
    "\n",
    "\n"
   ]
  },
  {
   "cell_type": "code",
   "execution_count": 304,
   "metadata": {},
   "outputs": [
    {
     "data": {
      "text/plain": [
       "'410.l.157050.t.10'"
      ]
     },
     "execution_count": 304,
     "metadata": {},
     "output_type": "execute_result"
    }
   ],
   "source": []
  },
  {
   "cell_type": "code",
   "execution_count": 302,
   "metadata": {},
   "outputs": [],
   "source": [
    "\n",
    "\n",
    "gm = yfa.Game(sc, 'nba')\n",
    "my_team = lg.to_team('410.l.157050.t.10')\n",
    "opponent_team = lg.to_team(my_team.matchup(lg.current_week()))\n",
    "\n",
    "my_team_roster = my_team.roster()\n",
    "opponent_team_roster = opponent_team.roster()\n"
   ]
  },
  {
   "cell_type": "code",
   "execution_count": 171,
   "metadata": {},
   "outputs": [
    {
     "data": {
      "text/plain": [
       "[6395, 5317, 6173, 4913, 3704, 5894, 5352, 6048, 5500, 6164, 6577, 5769, 5660]"
      ]
     },
     "execution_count": 171,
     "metadata": {},
     "output_type": "execute_result"
    }
   ],
   "source": [
    "my_team_noninjured = [player for player in my_team_roster if player['status'] != 'INJ']\n",
    "my_team_noninjured_ids = [player['player_id'] for player in my_team_noninjured]\n",
    "\n"
   ]
  },
  {
   "cell_type": "code",
   "execution_count": 221,
   "metadata": {},
   "outputs": [],
   "source": [
    "my_team_aggregate_stats = lg.player_stats(my_team_noninjured_ids, req_type='season')\n",
    "\n",
    "\n",
    "\n",
    "\n",
    "\n"
   ]
  },
  {
   "cell_type": "code",
   "execution_count": 234,
   "metadata": {},
   "outputs": [],
   "source": [
    "\n",
    "\n",
    "# Calculate per game stats of players\n",
    "\n",
    "# First create dataframe with all stats of relevant players\n",
    "player_gamelog = pd.DataFrame()\n",
    "\n",
    "for my_player in my_team_aggregate_stats:\n",
    "    \n",
    "    player_id = [player for player in player_dict if player['full_name'] == my_player['name']][0]['id']\n",
    "    gamelog_my_player = playergamelog.PlayerGameLog(player_id=player_id, season = SeasonAll.all)\n",
    "    gamelog_my_player_df = gamelog_my_player.get_data_frames()[0]\n",
    "    gamelog_my_player_df['GAME_DATE'] = pd.to_datetime(gamelog_my_player_df['GAME_DATE'])\n",
    "    gamelog_my_player_df = gamelog_my_player_df.query('GAME_DATE >= @NBA_START_DATE_2021')\n",
    "    gamelog_my_player_df['name'] = my_player['name']\n",
    "    player_gamelog = player_gamelog.append(gamelog_my_player_df)\n",
    "  \n",
    " \n",
    "\n",
    "\n",
    "\n",
    "\n",
    "\n"
   ]
  },
  {
   "cell_type": "code",
   "execution_count": null,
   "metadata": {},
   "outputs": [],
   "source": [
    "player_gamelog.query('name == @my_player_name').sum(cat)"
   ]
  },
  {
   "cell_type": "code",
   "execution_count": 259,
   "metadata": {},
   "outputs": [],
   "source": [
    "stat_conversion_dict = {'3PTM': 'FG3M',\n",
    " 'PTS': 'PTS',\n",
    " 'REB': 'REB',\n",
    " 'AST': 'AST',\n",
    " 'ST': 'STL',\n",
    " 'BLK': 'BLK',\n",
    " 'TO':'TOV'}\n",
    "\n",
    "player_pg_stats = dict()\n",
    "for my_player in my_team_aggregate_stats:\n",
    "    my_player_name = my_player['name']\n",
    "    player_pg_stats[my_player_name] = dict()\n",
    "    for cat in league_cats:\n",
    "        if '%' not in cat:\n",
    "            player_pg_stats[my_player['name']][cat] = player_gamelog.query('name == @my_player_name')[stat_conversion_dict[cat]].sum(axis=0) / \\\n",
    "                                                        len(player_gamelog.query('name == @my_player_name'))\n",
    "\n"
   ]
  },
  {
   "cell_type": "code",
   "execution_count": 263,
   "metadata": {},
   "outputs": [
    {
     "data": {
      "text/plain": [
       "nba_api.stats.library.parameters.Season"
      ]
     },
     "execution_count": 263,
     "metadata": {},
     "output_type": "execute_result"
    }
   ],
   "source": []
  },
  {
   "cell_type": "code",
   "execution_count": null,
   "metadata": {},
   "outputs": [],
   "source": []
  },
  {
   "cell_type": "code",
   "execution_count": null,
   "metadata": {},
   "outputs": [],
   "source": []
  },
  {
   "cell_type": "code",
   "execution_count": 204,
   "metadata": {},
   "outputs": [],
   "source": []
  },
  {
   "cell_type": "code",
   "execution_count": null,
   "metadata": {},
   "outputs": [],
   "source": []
  },
  {
   "cell_type": "code",
   "execution_count": null,
   "metadata": {},
   "outputs": [],
   "source": []
  },
  {
   "cell_type": "code",
   "execution_count": 218,
   "metadata": {},
   "outputs": [],
   "source": []
  },
  {
   "cell_type": "code",
   "execution_count": 308,
   "metadata": {},
   "outputs": [
    {
     "name": "stderr",
     "output_type": "stream",
     "text": [
      "/Users/benjaminboughton/opt/anaconda3/lib/python3.7/site-packages/ipykernel_launcher.py:20: SettingWithCopyWarning: \n",
      "A value is trying to be set on a copy of a slice from a DataFrame.\n",
      "Try using .loc[row_indexer,col_indexer] = value instead\n",
      "\n",
      "See the caveats in the documentation: https://pandas.pydata.org/pandas-docs/stable/user_guide/indexing.html#returning-a-view-versus-a-copy\n"
     ]
    },
    {
     "name": "stdout",
     "output_type": "stream",
     "text": [
      "--Return--\n",
      "None\n",
      "> \u001b[0;32m<ipython-input-307-4aad26c4afe8>\u001b[0m(24)\u001b[0;36mget_pg_stats\u001b[0;34m()\u001b[0m\n",
      "\u001b[0;32m     23 \u001b[0;31m    \u001b[0;32mimport\u001b[0m \u001b[0mipdb\u001b[0m\u001b[0;34m\u001b[0m\u001b[0;34m\u001b[0m\u001b[0m\n",
      "\u001b[0m\u001b[0;32m---> 24 \u001b[0;31m    \u001b[0mipdb\u001b[0m\u001b[0;34m.\u001b[0m\u001b[0mset_trace\u001b[0m\u001b[0;34m(\u001b[0m\u001b[0;34m)\u001b[0m\u001b[0;34m\u001b[0m\u001b[0;34m\u001b[0m\u001b[0m\n",
      "\u001b[0m\u001b[0;32m     25 \u001b[0;31m\u001b[0;34m\u001b[0m\u001b[0m\n",
      "\u001b[0m\n",
      "   SEASON_ID  Player_ID     Game_ID  GAME_DATE      MATCHUP    WL  MIN  FGM  \\\n",
      "0      22021    1630163  0022100567 2022-01-05  CHA vs. DET  None    0    2   \n",
      "1      22021    1630163  0022100553 2022-01-03    CHA @ WAS     L   31    8   \n",
      "2      22021    1630163  0022100549 2022-01-02  CHA vs. PHX     L   23    5   \n",
      "3      22021    1630163  0022100517 2021-12-29    CHA @ IND     W   34    8   \n",
      "4      22021    1630163  0022100501 2021-12-27  CHA vs. HOU     W   25    6   \n",
      "..       ...        ...         ...        ...          ...   ...  ...  ...   \n",
      "26     22021    1627749  0022100069 2021-10-28    SAS @ DAL     L   36   10   \n",
      "27     22021    1627749  0022100053 2021-10-26  SAS vs. LAL     L   40    9   \n",
      "28     22021    1627749  0022100032 2021-10-23  SAS vs. MIL     L   34    5   \n",
      "29     22021    1627749  0022100024 2021-10-22    SAS @ DEN     L   35    7   \n",
      "30     22021    1627749  0022100010 2021-10-20  SAS vs. ORL     W   31    6   \n",
      "\n",
      "    FGA  FG_PCT  ...  REB  AST  STL  BLK  TOV  PF  PTS  PLUS_MINUS  \\\n",
      "0     3   0.667  ...    1    3    0    1    1   0    6           7   \n",
      "1    21   0.381  ...    4    2    0    0    2   4   18          -1   \n",
      "2    12   0.417  ...    3    1    0    1    1   1   17         -32   \n",
      "3    13   0.615  ...   12    9    1    0    4   2   21          13   \n",
      "4    12   0.500  ...    5    7    2    0    1   2   16          17   \n",
      "..  ...     ...  ...  ...  ...  ...  ...  ...  ..  ...         ...   \n",
      "26   17   0.588  ...   10    8    1    0    2   1   23          16   \n",
      "27   24   0.375  ...   12   15    2    2    2   3   21           9   \n",
      "28   14   0.357  ...    9    7    1    0    0   2   10         -10   \n",
      "29   18   0.389  ...    9    6    2    0    4   4   15           2   \n",
      "30   17   0.353  ...    6    8    4    0    3   3   15          13   \n",
      "\n",
      "    VIDEO_AVAILABLE             name  \n",
      "0                 0      LaMelo Ball  \n",
      "1                 1      LaMelo Ball  \n",
      "2                 1      LaMelo Ball  \n",
      "3                 1      LaMelo Ball  \n",
      "4                 1      LaMelo Ball  \n",
      "..              ...              ...  \n",
      "26                1  Dejounte Murray  \n",
      "27                1  Dejounte Murray  \n",
      "28                1  Dejounte Murray  \n",
      "29                1  Dejounte Murray  \n",
      "30                1  Dejounte Murray  \n",
      "\n",
      "[457 rows x 28 columns]\n"
     ]
    }
   ],
   "source": [
    "get_pg_stats(my_team_roster)"
   ]
  },
  {
   "cell_type": "code",
   "execution_count": null,
   "metadata": {},
   "outputs": [],
   "source": [
    "my_team_noninjured = [player for player in my_team_roster if player['status'] != 'INJ']\n",
    "my_team_noninjured_ids = [player['player_id'] for player in my_team_noninjured]"
   ]
  },
  {
   "cell_type": "code",
   "execution_count": 307,
   "metadata": {},
   "outputs": [],
   "source": [
    "def get_pg_stats(team):\n",
    "    \"\"\"\n",
    "    Function for getting per game stats instead of default aggregate stats\n",
    "    \n",
    "    return: dict{str: dict{str: float}}\n",
    "    \"\"\"\n",
    "    \n",
    "    team_ids = [player['player_id'] for player in team]\n",
    "    team_aggregate_stats = lg.player_stats(team_ids, req_type='season')\n",
    "\n",
    "    player_gamelog = pd.DataFrame()\n",
    "\n",
    "    for current_player in team_aggregate_stats:\n",
    "    \n",
    "        player_id = [player for player in player_dict if player['full_name'] == current_player['name']][0]['id']\n",
    "        gamelog_player = playergamelog.PlayerGameLog(player_id=player_id, season = SeasonAll.all)\n",
    "        gamelog_player_df = gamelog_player.get_data_frames()[0]\n",
    "        gamelog_player_df['GAME_DATE'] = pd.to_datetime(gamelog_player_df['GAME_DATE'])\n",
    "        gamelog_player_df = gamelog_player_df.query('GAME_DATE >= @NBA_START_DATE_2021')\n",
    "        gamelog_player_df['name'] = current_player['name']\n",
    "        player_gamelog = player_gamelog.append(gamelog_player_df)\n",
    "\n",
    "    stat_conversion_dict = {'3PTM': 'FG3M',\n",
    "                            'PTS': 'PTS',\n",
    "                            'REB': 'REB',\n",
    "                            'AST': 'AST',\n",
    "                            'ST': 'STL',\n",
    "                            'BLK': 'BLK',\n",
    "                            'TO':'TOV'}\n",
    "\n",
    "    player_pg_stats = dict()\n",
    "    for current_player in team_aggregate_stats:\n",
    "        player_name = current_player['name']\n",
    "        player_pg_stats[player_name] = dict()\n",
    "        for cat in league_cats:\n",
    "            if '%' not in cat:\n",
    "                import ipdb\n",
    "                ipdb.set_trace()\n",
    "                player_pg_stats[current_player['name']][cat] = player_gamelog.query('name == @player_name')[stat_conversion_dict[cat]].sum(axis=0) / \\\n",
    "                                                        len(player_gamelog.query('name == @player_name'))\n",
    "\n",
    "    return player_pg_stats\n",
    "\n",
    "\n",
    "\n",
    "    \n",
    "\n",
    "\n"
   ]
  },
  {
   "cell_type": "code",
   "execution_count": null,
   "metadata": {},
   "outputs": [],
   "source": [
    "def simulate_scores(my_team, opponent_team):\n",
    "    \"\"\"\n",
    "    Function for simulating cumulative scores if current rosters stay same\n",
    "\n",
    "    \n",
    "    return: two dict{'str': dict{str: float}}\n",
    "    \"\"\"\n",
    "\n",
    "    \n",
    "    \n",
    "\n",
    "\n",
    "\n"
   ]
  },
  {
   "cell_type": "code",
   "execution_count": null,
   "metadata": {},
   "outputs": [],
   "source": []
  },
  {
   "cell_type": "code",
   "execution_count": null,
   "metadata": {},
   "outputs": [],
   "source": []
  }
 ],
 "metadata": {
  "interpreter": {
   "hash": "5c0b2660eea47a26f1eb5ed85661a17e2c2deebfe24cd31b0ffe5be679bcd458"
  },
  "kernelspec": {
   "display_name": "Python 3.7.4 64-bit ('base': conda)",
   "language": "python",
   "name": "python3"
  },
  "language_info": {
   "codemirror_mode": {
    "name": "ipython",
    "version": 3
   },
   "file_extension": ".py",
   "mimetype": "text/x-python",
   "name": "python",
   "nbconvert_exporter": "python",
   "pygments_lexer": "ipython3",
   "version": "3.7.4"
  },
  "orig_nbformat": 4
 },
 "nbformat": 4,
 "nbformat_minor": 2
}
